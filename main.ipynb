{
 "cells": [
  {
   "cell_type": "code",
   "execution_count": 2,
   "metadata": {},
   "outputs": [
    {
     "name": "stdout",
     "output_type": "stream",
     "text": [
      "[email] sending: система перегружена\n",
      "[sms] sending: низкий заряд батареи\n"
     ]
    }
   ],
   "source": [
    "from abc import ABC,abstractmethod\n",
    "\n",
    "class NotificationSender(ABC):\n",
    "    @abstractmethod\n",
    "    def send(self,messege) ->str: ...\n",
    "\n",
    "class EmailNotification(NotificationSender):\n",
    "    def send(self,messege):\n",
    "        return f\"[email] sending: {messege}\"\n",
    "    \n",
    "class SMSNotification(NotificationSender):\n",
    "    def send(self,messege):\n",
    "        return f\"[sms] sending: {messege}\"\n",
    "    \n",
    "class Notification(ABC):\n",
    "    def __init__(self,sender) -> None:\n",
    "        self.sender = sender\n",
    "\n",
    "    def notify(self,messege:str): ...\n",
    "        \n",
    "class AlertNotification(Notification):\n",
    "    def notify(self,messege:str):\n",
    "        return self.sender.send(messege)\n",
    "\n",
    "email = EmailNotification()\n",
    "sms = SMSNotification()\n",
    "\n",
    "alert = AlertNotification(email)\n",
    "print(alert.notify(\"система перегружена\"))\n",
    "\n",
    "alert.sender = sms\n",
    "print(alert.notify(\"низкий заряд батареи\"))"
   ]
  },
  {
   "cell_type": "code",
   "execution_count": 3,
   "metadata": {},
   "outputs": [
    {
     "name": "stdout",
     "output_type": "stream",
     "text": [
      "[push] sending: новый способ сообщения\n"
     ]
    }
   ],
   "source": [
    "class PushNotification:\n",
    "    def push(self,content:str):\n",
    "        return f\"[push] sending: {content}\"\n",
    "\n",
    "class PushNotificationAdapter(NotificationSender):\n",
    "    def __init__(self,adaptee:PushNotification) -> None:\n",
    "        self.adaptee = adaptee\n",
    "\n",
    "    def send(self,messege) ->str:\n",
    "        return self.adaptee.push(messege)\n",
    "    \n",
    "\n",
    "push = PushNotification()\n",
    "adapter = PushNotificationAdapter(push)\n",
    "\n",
    "alert = AlertNotification(adapter)\n",
    "print(alert.notify(\"новый способ сообщения\"))\n"
   ]
  },
  {
   "cell_type": "code",
   "execution_count": 7,
   "metadata": {},
   "outputs": [
    {
     "data": {
      "text/plain": [
       "'[urgent][email] sending: сервер упал'"
      ]
     },
     "execution_count": 7,
     "metadata": {},
     "output_type": "execute_result"
    }
   ],
   "source": [
    "class BaseNotification(ABC):\n",
    "    @abstractmethod\n",
    "    def notify(self,messege) ->str: ...\n",
    "\n",
    "class SimpleNotification(BaseNotification):\n",
    "    def __init__(self,sender) ->None:\n",
    "        self.sender = sender\n",
    "\n",
    "    def notify(self,messege) -> str:\n",
    "        return self.sender.send(messege)\n",
    "    \n",
    "class UrgentNotification(BaseNotification):\n",
    "    def __init__(self,wrapped: BaseNotification) ->None:\n",
    "        self.wrapped = wrapped\n",
    "\n",
    "    def notify(self,messege) -> str:\n",
    "        return \"[urgent]\"+\"\"+ self.wrapped.notify(messege)\n",
    "    \n",
    "email = EmailNotification()\n",
    "simple = SimpleNotification(email)\n",
    "\n",
    "urgent = UrgentNotification(simple)\n",
    "urgent.notify(\"сервер упал\")\n"
   ]
  },
  {
   "cell_type": "code",
   "execution_count": null,
   "metadata": {},
   "outputs": [],
   "source": [
    "class WaterHeater:\n",
    "    def heat(self):\n",
    "        print(\"нагрев воды\")\n",
    "\n",
    "class CoffeeGrinder:\n",
    "    def grind(self):\n",
    "        print(\"молем кофе\")\n",
    "\n",
    "class CoffeeBreaker:\n",
    "    def brew(self):\n",
    "        print(\"варим кофе\")\n",
    "\n",
    "class CoffeeMachine:\n",
    "    def __init__(self) -> None:\n",
    "        self.header = WaterHeater()\n",
    "        self.grider = CoffeeGrinder()\n",
    "        self.brewer = CoffeeBreaker()"
   ]
  }
 ],
 "metadata": {
  "kernelspec": {
   "display_name": "Python 3",
   "language": "python",
   "name": "python3"
  },
  "language_info": {
   "codemirror_mode": {
    "name": "ipython",
    "version": 3
   },
   "file_extension": ".py",
   "mimetype": "text/x-python",
   "name": "python",
   "nbconvert_exporter": "python",
   "pygments_lexer": "ipython3",
   "version": "3.10.0"
  }
 },
 "nbformat": 4,
 "nbformat_minor": 2
}
